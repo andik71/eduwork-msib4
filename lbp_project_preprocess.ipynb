{
  "nbformat": 4,
  "nbformat_minor": 0,
  "metadata": {
    "colab": {
      "provenance": [],
      "authorship_tag": "ABX9TyN7+UIDL34dKNfLXStOPRdH",
      "include_colab_link": true
    },
    "kernelspec": {
      "name": "python3",
      "display_name": "Python 3"
    },
    "language_info": {
      "name": "python"
    }
  },
  "cells": [
    {
      "cell_type": "markdown",
      "metadata": {
        "id": "view-in-github",
        "colab_type": "text"
      },
      "source": [
        "<a href=\"https://colab.research.google.com/github/andik71/eduwork-msib4/blob/main/lbp_project_preprocess.ipynb\" target=\"_parent\"><img src=\"https://colab.research.google.com/assets/colab-badge.svg\" alt=\"Open In Colab\"/></a>"
      ]
    },
    {
      "cell_type": "code",
      "execution_count": null,
      "metadata": {
        "id": "cPwYsvBUcf1B"
      },
      "outputs": [],
      "source": [
        "import pandas as pd\n",
        "from mlxtend.preprocessing import TransactionEncoder"
      ]
    },
    {
      "cell_type": "code",
      "source": [
        "# ======================================================\n",
        "# KONFIGURASI\n",
        "# ======================================================\n",
        "INPUT_FILE = 'lbp_datasets_merged.csv'      # File transaksi mentah yang dihasilkan dari generate_transaksi\n",
        "OUTPUT_CLEANED = 'lbp_dataset_grouped.csv'    # Output file setelah grouping transaksi\n",
        "OUTPUT_ENCODED = 'lbp_dataset_encoded.csv'    # Output file untuk binary matrix (one-hot encoding)\n",
        "DELIMITER_CSV = ','"
      ],
      "metadata": {
        "id": "XqZV07SXcp0f"
      },
      "execution_count": null,
      "outputs": []
    },
    {
      "cell_type": "code",
      "source": [
        "# ======================================================\n",
        "# FUNGSI PREPROCESSING\n",
        "# ======================================================\n",
        "def preprocess_transactions(df: pd.DataFrame) -> pd.DataFrame:\n",
        "    \"\"\"\n",
        "    Melakukan cleaning dan grouping pada data transaksi.\n",
        "\n",
        "    Proses:\n",
        "      1. Validasi keberadaan kolom 'id_transaksi', 'tgl_transaksi', dan 'id_produk'.\n",
        "      2. Mengonversi kolom 'tgl_transaksi' ke tipe datetime.\n",
        "      3. Mengelompokkan transaksi berdasarkan 'id_transaksi' dan 'tgl_transaksi'\n",
        "         serta menyimpan daftar produk unik (tanpa duplikasi dan diurutkan) pada kolom 'items'.\n",
        "\n",
        "    Output:\n",
        "      DataFrame dengan kolom: id_transaksi, tgl_transaksi, items\n",
        "    \"\"\"\n",
        "    # Validasi kolom wajib\n",
        "    required_columns = ['id_transaksi', 'tgl_transaksi', 'id_produk']\n",
        "    for col in required_columns:\n",
        "        if col not in df.columns:\n",
        "            raise ValueError(f\"Kolom wajib '{col}' tidak ditemukan\")\n",
        "\n",
        "    # Konversi 'tgl_transaksi' ke datetime jika belum\n",
        "    if not pd.api.types.is_datetime64_any_dtype(df['tgl_transaksi']):\n",
        "        df['tgl_transaksi'] = pd.to_datetime(df['tgl_transaksi'], errors='coerce')\n",
        "        if df['tgl_transaksi'].isnull().any():\n",
        "            raise ValueError(\"Terdapat nilai yang tidak bisa dikonversi ke datetime pada kolom 'tgl_transaksi'\")\n",
        "\n",
        "    # Grouping berdasarkan 'id_transaksi' dan 'tgl_transaksi'\n",
        "    grouped = df.groupby(['id_transaksi', 'tgl_transaksi'])['id_produk'] \\\n",
        "                .agg(lambda x: sorted(list(set(x)))) \\\n",
        "                .reset_index() \\\n",
        "                .rename(columns={'id_produk': 'items'})\n",
        "\n",
        "    return grouped\n",
        "\n",
        "def encode_transactions(df: pd.DataFrame) -> pd.DataFrame:\n",
        "    \"\"\"\n",
        "    Mengubah kolom 'items' pada DataFrame transaksi menjadi format binary matrix.\n",
        "    Menggunakan TransactionEncoder dari mlxtend untuk mengonversi daftar item\n",
        "    menjadi kolom-kolom boolean.\n",
        "\n",
        "    Output:\n",
        "      DataFrame yang menggabungkan metadata (id_transaksi, tgl_transaksi) dengan matrix binary.\n",
        "    \"\"\"\n",
        "    try:\n",
        "        te = TransactionEncoder()\n",
        "        te_ary = te.fit_transform(df['items'])\n",
        "        encoded_df = pd.DataFrame(te_ary, columns=te.columns_)\n",
        "        # Gabungkan metadata transaksi dengan hasil encoding\n",
        "        encoded_df = pd.concat([df[['id_transaksi', 'tgl_transaksi']].reset_index(drop=True), encoded_df], axis=1)\n",
        "        return encoded_df\n",
        "    except Exception as e:\n",
        "        raise RuntimeError(f\"Gagal melakukan encoding: {str(e)}\")"
      ],
      "metadata": {
        "id": "GLUqTd2AcrUB"
      },
      "execution_count": null,
      "outputs": []
    },
    {
      "cell_type": "code",
      "source": [
        "# ======================================================\n",
        "# MAIN PROGRAM\n",
        "# ======================================================\n",
        "if __name__ == \"__main__\":\n",
        "    print(\"=== Program Preprocessing Data Transaksi ===\")\n",
        "    try:\n",
        "        # Langkah 1: Membaca data mentah\n",
        "        print(\"\\n1. Membaca data mentah...\")\n",
        "        raw_df = pd.read_csv(INPUT_FILE, delimiter=DELIMITER_CSV)\n",
        "        print(\"Contoh data mentah:\")\n",
        "        print(raw_df.head(2))\n",
        "\n",
        "        # Langkah 2: Cleaning dan grouping transaksi\n",
        "        print(\"\\n2. Mengelompokkan transaksi...\")\n",
        "        cleaned_df = preprocess_transactions(raw_df)\n",
        "        cleaned_df.to_csv(OUTPUT_CLEANED, index=False)\n",
        "        print(f\"Data grouped disimpan ke: {OUTPUT_CLEANED}\")\n",
        "        print(\"Contoh data grouped:\")\n",
        "        print(cleaned_df.head(2))\n",
        "        print(f\"Total data grouped: {cleaned_df.shape[0]} baris\")\n",
        "\n",
        "        # Langkah 3: Encoding transaksi ke binary matrix\n",
        "        print(\"\\n3. Mengonversi transaksi ke binary matrix...\")\n",
        "        encoded_df = encode_transactions(cleaned_df)\n",
        "        encoded_df.to_csv(OUTPUT_ENCODED, index=False, sep=DELIMITER_CSV)\n",
        "        print(f\"Data encoded disimpan ke: {OUTPUT_ENCODED}\")\n",
        "        print(\"Contoh data encoded (2 transaksi & 5 kolom pertama):\")\n",
        "        print(encoded_df.iloc[:2, :5])\n",
        "        print(f\"Total data encoded: {encoded_df.shape[0]} baris dengan {encoded_df.shape[1]} fitur\")\n",
        "\n",
        "        print(\"\\n=== Preprocessing selesai! ===\")\n",
        "    except Exception as e:\n",
        "        print(f\"\\nERROR: {str(e)}\")"
      ],
      "metadata": {
        "colab": {
          "base_uri": "https://localhost:8080/"
        },
        "id": "XEJ0Ti-hctfH",
        "outputId": "b1b59960-54cd-4c1b-872d-ca89415fffe8"
      },
      "execution_count": null,
      "outputs": [
        {
          "output_type": "stream",
          "name": "stdout",
          "text": [
            "=== Program Preprocessing Data Transaksi ===\n",
            "\n",
            "1. Membaca data mentah...\n",
            "Contoh data mentah:\n",
            "            id_transaksi        tgl_transaksi id_produk  nama_produk  \\\n",
            "0  LBP202412011637560001  2024-12-01 16:37:56    BQFLBB  Buket Bunga   \n",
            "1  LBP202412011637560001  2024-12-01 16:37:56    BQSKGA  Buket Snack   \n",
            "\n",
            "  sub_kategori fitur_produk harga_produk  jumlah_produk  total_transaksi  \n",
            "0        Biasa   10 Tangkai     Rp100,00              1            10000  \n",
            "1   Gery Salut      5 Snack      Rp25,00              1             2500  \n",
            "\n",
            "2. Mengelompokkan transaksi...\n",
            "Data grouped disimpan ke: lbp_dataset_grouped.csv\n",
            "Contoh data grouped:\n",
            "            id_transaksi       tgl_transaksi                             items\n",
            "0  LBP202408011100400045 2024-08-01 11:00:40  [BQFLEB, BQSKBB, BQSKPA, GCSDWD]\n",
            "1  LBP202408011102140037 2024-08-01 11:02:14  [BQFLBA, BQSKHA, BQSKPA, BQSKPC]\n",
            "Total data grouped: 15996 baris\n",
            "\n",
            "3. Mengonversi transaksi ke binary matrix...\n",
            "Data encoded disimpan ke: lbp_dataset_encoded.csv\n",
            "Contoh data encoded (2 transaksi & 5 kolom pertama):\n",
            "            id_transaksi       tgl_transaksi  BQDLGA  BQDLGB  BQFLBA\n",
            "0  LBP202408011100400045 2024-08-01 11:00:40   False   False   False\n",
            "1  LBP202408011102140037 2024-08-01 11:02:14   False   False    True\n",
            "Total data encoded: 15996 baris dengan 29 fitur\n",
            "\n",
            "=== Preprocessing selesai! ===\n"
          ]
        }
      ]
    }
  ]
}